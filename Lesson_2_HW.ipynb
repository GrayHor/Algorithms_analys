{
 "cells": [
  {
   "cell_type": "code",
   "execution_count": 876,
   "metadata": {},
   "outputs": [],
   "source": [
    "import numpy as np\n",
    "from sklearn import datasets\n",
    "import matplotlib.pyplot as plt"
   ]
  },
  {
   "cell_type": "code",
   "execution_count": 974,
   "metadata": {},
   "outputs": [],
   "source": [
    "#датасет\n",
    "data, target, coef = sklearn.datasets.make_regression(n_samples = 1000, n_features = 2, n_informative=2, n_targets=1, noise =7, coef=True, random_state =2 )"
   ]
  },
  {
   "cell_type": "code",
   "execution_count": 975,
   "metadata": {},
   "outputs": [
    {
     "data": {
      "text/plain": [
       "array([ 0.37879447, -0.61837549])"
      ]
     },
     "execution_count": 975,
     "metadata": {},
     "output_type": "execute_result"
    }
   ],
   "source": [
    "data[0,:]"
   ]
  },
  {
   "cell_type": "code",
   "execution_count": 976,
   "metadata": {},
   "outputs": [
    {
     "data": {
      "text/plain": [
       "0.02045785219888101"
      ]
     },
     "execution_count": 976,
     "metadata": {},
     "output_type": "execute_result"
    }
   ],
   "source": [
    "sum(data[:, 1])/1000"
   ]
  },
  {
   "cell_type": "code",
   "execution_count": 977,
   "metadata": {},
   "outputs": [
    {
     "name": "stdout",
     "output_type": "stream",
     "text": [
      "[-0.0790127   0.02045785] [-0.0790127   0.02045785]\n"
     ]
    }
   ],
   "source": [
    "mean = np.mean(data, axis = 0)\n",
    "std = np.mean(data, axis = 0)\n",
    "print(mean, std)\n"
   ]
  },
  {
   "cell_type": "code",
   "execution_count": 978,
   "metadata": {},
   "outputs": [],
   "source": [
    "# Проведем стандартизацию признаков:\n",
    "for i in range(data.shape[0]):\n",
    "    for j in range(data.shape[1]):\n",
    "        data[i, j] = (data[i, j] - mean[j]) / std[j]"
   ]
  },
  {
   "cell_type": "code",
   "execution_count": 979,
   "metadata": {},
   "outputs": [
    {
     "data": {
      "text/plain": [
       "array([ -5.79409582, -31.22680382])"
      ]
     },
     "execution_count": 979,
     "metadata": {},
     "output_type": "execute_result"
    }
   ],
   "source": [
    "data[0,:]"
   ]
  },
  {
   "cell_type": "code",
   "execution_count": 885,
   "metadata": {},
   "outputs": [],
   "source": [
    "def mse(X, w, y):\n",
    "    mse = sum((y - X.dot(w))**2)/data.shape[0]\n",
    "    return mse\n",
    "    "
   ]
  },
  {
   "cell_type": "code",
   "execution_count": 886,
   "metadata": {},
   "outputs": [],
   "source": [
    "# начальные значения \n",
    "w = np.zeros(2)\n",
    "eta = 1e-4\n",
    "max_iter = 10000\n",
    "delta_stop = 1e-5\n",
    "delta = 1e+5\n",
    "n = data.shape[0]"
   ]
  },
  {
   "cell_type": "code",
   "execution_count": 887,
   "metadata": {},
   "outputs": [
    {
     "name": "stdout",
     "output_type": "stream",
     "text": [
      "269 [-4.91319048  1.39873099] 63.72714390186238\n"
     ]
    }
   ],
   "source": [
    "# градиентный спуск\n",
    "mse_gd = []\n",
    "for iter in range(max_iter):\n",
    "    \n",
    "    err = mse(data, w, target)\n",
    "    mse_gd.append(err)\n",
    "    w_new = w - eta * 2 / n * (np.dot(data.T, (data.dot(w) - target)))\n",
    "\n",
    "    delta = mse(data, w, target) - mse(data, w_new, target)\n",
    "\n",
    "    w = w_new\n",
    "    \n",
    "    if iter > 1 and delta < delta_stop:\n",
    "        print(iter, w_new, err)\n",
    "        break\n",
    "            "
   ]
  },
  {
   "cell_type": "code",
   "execution_count": 888,
   "metadata": {},
   "outputs": [],
   "source": [
    "# начальные значения \n",
    "w = np.zeros(2)\n",
    "eta = 1e-2\n",
    "max_iter = 10000\n",
    "delta_weigth_stop = 1e-6\n",
    "delta_weigth = 1e+5\n",
    "n = data.shape[0]"
   ]
  },
  {
   "cell_type": "code",
   "execution_count": 889,
   "metadata": {},
   "outputs": [
    {
     "name": "stdout",
     "output_type": "stream",
     "text": [
      "1047 [-4.68951339  1.37683538] 72.56216582049494\n"
     ]
    }
   ],
   "source": [
    "# стохастический градиентный спуск\n",
    "mse_sgd = []\n",
    "for iter in range(max_iter):\n",
    "    i = np.random.randint(0, data.shape[0])\n",
    "    \n",
    "    err = mse(data, w, target) \n",
    "    mse_sgd.append(err)\n",
    "    \n",
    "    w_new = w - eta * 2/n * (np.dot(data[i].T, (data[i].dot(w) - target[i])))\n",
    "\n",
    "    delta_weigth = np.linalg.norm(w_new - w, ord=2)\n",
    "\n",
    "\n",
    "    w = w_new\n",
    "    if iter > 1 and delta_weigth < delta_weigth_stop:\n",
    "        print(iter, w_new, err)\n",
    "        break\n",
    "   \n",
    " "
   ]
  },
  {
   "cell_type": "code",
   "execution_count": 890,
   "metadata": {},
   "outputs": [
    {
     "data": {
      "text/plain": [
       "(0, 500)"
      ]
     },
     "execution_count": 890,
     "metadata": {},
     "output_type": "execute_result"
    },
    {
     "data": {
      "image/png": "[encoded data removed]",
      "text/plain": [
       "<Figure size 432x288 with 1 Axes>"
      ]
     },
     "metadata": {
      "needs_background": "light"
     },
     "output_type": "display_data"
    }
   ],
   "source": [
    "plt.plot(range(len(mse_gd)), mse_gd, color='r')\n",
    "plt.plot(range(len(mse_sgd)), mse_sgd, color='b')\n",
    "plt.title('MSE')\n",
    "plt.xlabel('Iteration number')\n",
    "plt.ylabel('MSE')\n",
    "plt.xlim(0,500)"
   ]
  },
  {
   "cell_type": "code",
   "execution_count": 891,
   "metadata": {},
   "outputs": [],
   "source": [
    "# Вывод: скорость сходимости градиентного спуска выше (на графике - красным)"
   ]
  },
  {
   "cell_type": "code",
   "execution_count": 980,
   "metadata": {},
   "outputs": [],
   "source": [
    "def mse_L2(X, w, y, coef_L2):\n",
    "    mse_L2 = sum((y - X.dot(w))**2)/data.shape[0] + coef_L2 * np.sum(w ** 2)\n",
    "    return mse_L2"
   ]
  },
  {
   "cell_type": "code",
   "execution_count": 981,
   "metadata": {},
   "outputs": [],
   "source": [
    "# начальные значения \n",
    "w = np.zeros(2)\n",
    "eta = 1e-4\n",
    "max_iter = 1000\n",
    "delta_stop = 1e-4\n",
    "delta = 1e+5\n",
    "n = data.shape[0]\n",
    "coef_L2 = 0.01"
   ]
  },
  {
   "cell_type": "code",
   "execution_count": 963,
   "metadata": {},
   "outputs": [
    {
     "name": "stdout",
     "output_type": "stream",
     "text": [
      "232 [-4.91081266  1.39873021] 63.989553723955304 9.616741244400373e-05\n"
     ]
    }
   ],
   "source": [
    "# градиентный спуск + l2 регуляризация\n",
    "mse_gd_L2 = []\n",
    "for iter in range(max_iter):\n",
    "    \n",
    "    err = mse_L2(data, w, target, coef_L2)\n",
    "    mse_gd_L2.append(err)\n",
    "    w_new = w - eta * (2 / n * (np.dot(data.T, (data.dot(w) - target))) + 2 * coef_L2 * np.sum(w))\n",
    "    \n",
    "\n",
    "    delta = mse_L2(data, w, target, coef_L2) - mse_L2(data, w_new, target, coef_L2)\n",
    "#     delta = np.abs(delta)\n",
    "\n",
    "    w = w_new\n",
    "    \n",
    "#     if iter % 100 == 0:\n",
    "#         print(iter, w_new, err, delta)\n",
    "    \n",
    "    if iter > 1 and delta < delta_stop:\n",
    "        print(iter, w_new, err, abs(delta))\n",
    "        break"
   ]
  },
  {
   "cell_type": "code",
   "execution_count": 1004,
   "metadata": {},
   "outputs": [],
   "source": [
    "# начальные значения + L2 регуляризация\n",
    "w = np.zeros(2)\n",
    "eta = 1e-2\n",
    "max_iter = 10000\n",
    "delta_weigth_stop = 1e-8\n",
    "delta_weigth = 1e+5\n",
    "n = data.shape[0]\n",
    "delta_stop = 1e-4\n",
    "delta = 1e+5\n"
   ]
  },
  {
   "cell_type": "code",
   "execution_count": 1005,
   "metadata": {},
   "outputs": [
    {
     "name": "stdout",
     "output_type": "stream",
     "text": [
      "5475 [-4.74969676  1.39945888] 68.18585799726331 5.119964757227535e-05\n"
     ]
    }
   ],
   "source": [
    "# стохастический градиентный спуск\n",
    "mse_sgd_L2 = []\n",
    "for iter in range(max_iter):\n",
    "    i = np.random.randint(0, data.shape[0])\n",
    "    \n",
    "    err = mse_L2(data, w, target, coef_L2)\n",
    "    mse_sgd_L2.append(err)\n",
    "    \n",
    "    w_new = w - eta * (2/n * (np.dot(data[i].T, (data[i].dot(w) - target[i]))) + 2 * coef_L2 * np.sum(w))\n",
    "    \n",
    "    delta = mse_L2(data, w, target, coef_L2) - mse_L2(data, w_new, target, coef_L2)\n",
    "    delta = abs(delta)\n",
    "\n",
    "#     delta_weigth = np.linalg.norm(w_new - w, ord=2)\n",
    "\n",
    "\n",
    "    w = w_new\n",
    "    \n",
    "#     if iter > 1 and delta_weigth < delta_weigth_stop:\n",
    "#         print(iter, w_new, err, delta_weigth)\n",
    "#         break\n",
    "\n",
    "    \n",
    "    if iter > 1 and delta < delta_stop:\n",
    "        print(iter, w_new, err, delta)\n",
    "        break\n",
    "\n",
    "#     if iter % 1000 == 0:\n",
    "#         print(iter, w_new, err, delta)"
   ]
  },
  {
   "cell_type": "code",
   "execution_count": 1006,
   "metadata": {},
   "outputs": [
    {
     "data": {
      "text/plain": [
       "(0, 500)"
      ]
     },
     "execution_count": 1006,
     "metadata": {},
     "output_type": "execute_result"
    },
    {
     "data": {
      "image/png": "[encoded data removed]",
      "text/plain": [
       "<Figure size 432x288 with 1 Axes>"
      ]
     },
     "metadata": {
      "needs_background": "light"
     },
     "output_type": "display_data"
    }
   ],
   "source": [
    "plt.plot(range(len(mse_gd_L2)), mse_gd_L2, color='r')\n",
    "plt.plot(range(len(mse_sgd_L2)), mse_sgd_L2, color='b')\n",
    "plt.title('MSE')\n",
    "plt.xlabel('Iteration number')\n",
    "plt.ylabel('MSE')\n",
    "plt.xlim(0, 500)"
   ]
  },
  {
   "cell_type": "code",
   "execution_count": null,
   "metadata": {},
   "outputs": [],
   "source": []
  }
 ],
 "metadata": {
  "kernelspec": {
   "display_name": "Python 3",
   "language": "python",
   "name": "python3"
  },
  "language_info": {
   "codemirror_mode": {
    "name": "ipython",
    "version": 3
   },
   "file_extension": ".py",
   "mimetype": "text/x-python",
   "name": "python",
   "nbconvert_exporter": "python",
   "pygments_lexer": "ipython3",
   "version": "3.7.6"
  }
 },
 "nbformat": 4,
 "nbformat_minor": 4
}
