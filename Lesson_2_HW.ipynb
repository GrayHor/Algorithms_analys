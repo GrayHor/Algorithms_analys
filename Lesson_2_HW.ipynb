{
 "cells": [
  {
   "cell_type": "code",
   "execution_count": 634,
   "metadata": {},
   "outputs": [],
   "source": [
    "import numpy as np\n",
    "from sklearn import datasets\n",
    "import matplotlib.pyplot as plt"
   ]
  },
  {
   "cell_type": "code",
   "execution_count": 823,
   "metadata": {},
   "outputs": [],
   "source": [
    "#датасет\n",
    "data, target, coef = sklearn.datasets.make_regression(n_samples = 1000, n_features = 2, n_informative=2, n_targets=1, noise =7, coef=True, random_state =2 )"
   ]
  },
  {
   "cell_type": "code",
   "execution_count": 824,
   "metadata": {},
   "outputs": [
    {
     "data": {
      "text/plain": [
       "array([ 0.37879447, -0.61837549])"
      ]
     },
     "execution_count": 824,
     "metadata": {},
     "output_type": "execute_result"
    }
   ],
   "source": [
    "data[0,:]"
   ]
  },
  {
   "cell_type": "code",
   "execution_count": 825,
   "metadata": {},
   "outputs": [
    {
     "data": {
      "text/plain": [
       "0.02045785219888101"
      ]
     },
     "execution_count": 825,
     "metadata": {},
     "output_type": "execute_result"
    }
   ],
   "source": [
    "sum(data[:, 1])/1000"
   ]
  },
  {
   "cell_type": "code",
   "execution_count": 826,
   "metadata": {},
   "outputs": [
    {
     "name": "stdout",
     "output_type": "stream",
     "text": [
      "[-0.0790127   0.02045785] [-0.0790127   0.02045785]\n"
     ]
    }
   ],
   "source": [
    "mean = np.mean(data, axis = 0)\n",
    "std = np.mean(data, axis = 0)\n",
    "print(mean, std)\n"
   ]
  },
  {
   "cell_type": "code",
   "execution_count": 827,
   "metadata": {},
   "outputs": [],
   "source": [
    "# Проведем стандартизацию признаков:\n",
    "for i in range(data.shape[0]):\n",
    "    for j in range(data.shape[1]):\n",
    "        data[i, j] = (data[i, j] - mean[j]) / std[j]"
   ]
  },
  {
   "cell_type": "code",
   "execution_count": 828,
   "metadata": {},
   "outputs": [
    {
     "data": {
      "text/plain": [
       "array([ -5.79409582, -31.22680382])"
      ]
     },
     "execution_count": 828,
     "metadata": {},
     "output_type": "execute_result"
    }
   ],
   "source": [
    "data[0,:]"
   ]
  },
  {
   "cell_type": "code",
   "execution_count": 829,
   "metadata": {},
   "outputs": [],
   "source": [
    "def mse(X, w, y):\n",
    "    mse = sum((y - X.dot(w))**2)/data.shape[0]\n",
    "    return mse\n",
    "    "
   ]
  },
  {
   "cell_type": "code",
   "execution_count": 673,
   "metadata": {},
   "outputs": [],
   "source": [
    "# начальные значения \n",
    "w = np.zeros(2)\n",
    "eta = 1e-4\n",
    "max_iter = 10000\n",
    "delta_stop = 1e-5\n",
    "delta = 1e+5\n",
    "n = data.shape[0]"
   ]
  },
  {
   "cell_type": "code",
   "execution_count": 674,
   "metadata": {},
   "outputs": [
    {
     "name": "stdout",
     "output_type": "stream",
     "text": [
      "269 [-4.91319048  1.39873099] 63.72714390186238\n"
     ]
    }
   ],
   "source": [
    "# градиентный спуск\n",
    "mse_gd = []\n",
    "for iter in range(max_iter):\n",
    "    \n",
    "    err = mse(data, w, target)\n",
    "    mse_gd.append(err)\n",
    "    w_new = w - eta * 2 / n * (np.dot(data.T, (data.dot(w) - target)))\n",
    "\n",
    "    delta = mse(data, w, target) - mse(data, w_new, target)\n",
    "\n",
    "    w = w_new\n",
    "    \n",
    "    if iter > 1 and delta < delta_stop:\n",
    "        print(iter, w_new, err)\n",
    "        break\n",
    "            "
   ]
  },
  {
   "cell_type": "code",
   "execution_count": 684,
   "metadata": {},
   "outputs": [],
   "source": [
    "# начальные значения \n",
    "w = np.zeros(2)\n",
    "eta = 1e-2\n",
    "max_iter = 10000\n",
    "delta_weigth_stop = 1e-6\n",
    "delta_weigth = 1e+5\n",
    "n = data.shape[0]"
   ]
  },
  {
   "cell_type": "code",
   "execution_count": 685,
   "metadata": {},
   "outputs": [
    {
     "name": "stdout",
     "output_type": "stream",
     "text": [
      "7901 [-4.92840125  1.33951816] 72.01279969090373\n"
     ]
    }
   ],
   "source": [
    "# стохастический градиентный спуск\n",
    "mse_sgd = []\n",
    "for iter in range(max_iter):\n",
    "    i = np.random.randint(0, data.shape[0])\n",
    "    \n",
    "    err = mse(data, w, target) \n",
    "    mse_sgd.append(err)\n",
    "    \n",
    "    w_new = w - eta * 2/n * (np.dot(data[i].T, (data[i].dot(w) - target[i])))\n",
    "\n",
    "    delta_weigth = np.linalg.norm(w_new - w, ord=2)\n",
    "\n",
    "\n",
    "    w = w_new\n",
    "    if iter > 1 and delta_weigth < delta_weigth_stop:\n",
    "        print(iter, w_new, err)\n",
    "        break\n",
    "   \n",
    " "
   ]
  },
  {
   "cell_type": "code",
   "execution_count": 693,
   "metadata": {},
   "outputs": [
    {
     "data": {
      "text/plain": [
       "(0, 500)"
      ]
     },
     "execution_count": 693,
     "metadata": {},
     "output_type": "execute_result"
    },
    {
     "data": {
      "image/png": "[encoded data removed]",
      "text/plain": [
       "<Figure size 432x288 with 1 Axes>"
      ]
     },
     "metadata": {
      "needs_background": "light"
     },
     "output_type": "display_data"
    }
   ],
   "source": [
    "plt.plot(range(len(mse_gd)), mse_gd, color='r')\n",
    "plt.plot(range(len(mse_sgd)), mse_sgd, color='b')\n",
    "plt.title('MSE')\n",
    "plt.xlabel('Iteration number')\n",
    "plt.ylabel('MSE')\n",
    "plt.xlim(0,500)"
   ]
  },
  {
   "cell_type": "code",
   "execution_count": 687,
   "metadata": {},
   "outputs": [],
   "source": [
    "# Вывод: скорость сходимости градиентного спуска выше (на графике - красным)"
   ]
  },
  {
   "cell_type": "code",
   "execution_count": 870,
   "metadata": {},
   "outputs": [],
   "source": [
    "def mse_L2(X, w, y, coef_L2):\n",
    "    mse_L2 = sum((y - X.dot(w))**2)/data.shape[0] + coef_L2 * np.sum(w ** 2)\n",
    "    return mse_L2"
   ]
  },
  {
   "cell_type": "code",
   "execution_count": 871,
   "metadata": {},
   "outputs": [],
   "source": [
    "# начальные значения \n",
    "w = np.zeros(2)\n",
    "eta = 1e-3\n",
    "max_iter = 1000\n",
    "delta_stop = 1e-4\n",
    "delta = 1e+5\n",
    "n = data.shape[0]\n",
    "coef_L2 = 0.01"
   ]
  },
  {
   "cell_type": "code",
   "execution_count": 872,
   "metadata": {},
   "outputs": [
    {
     "name": "stdout",
     "output_type": "stream",
     "text": [
      "0 [-1.48855116  6.42109124] 8211.927865021598 -53371.46147971678\n",
      "100 [3.19318476e+55 4.79270771e+57] 3.9092774708523024e+117 -4.999720567479016e+118\n",
      "200 [3.03004574e+112 4.54784946e+114] 3.520033291657635e+231 -4.5019016884147e+232\n",
      "300 [2.87524146e+169 4.31550096e+171] inf nan\n"
     ]
    },
    {
     "name": "stderr",
     "output_type": "stream",
     "text": [
      "C:\\Users\\maslenicyna\\Anaconda3\\lib\\site-packages\\ipykernel_launcher.py:9: RuntimeWarning: invalid value encountered in double_scalars\n",
      "  if __name__ == '__main__':\n",
      "C:\\Users\\maslenicyna\\Anaconda3\\lib\\site-packages\\ipykernel_launcher.py:2: RuntimeWarning: overflow encountered in square\n",
      "  \n",
      "C:\\Users\\maslenicyna\\Anaconda3\\lib\\site-packages\\ipykernel_launcher.py:7: RuntimeWarning: invalid value encountered in subtract\n",
      "  import sys\n"
     ]
    },
    {
     "name": "stdout",
     "output_type": "stream",
     "text": [
      "400 [2.72834609e+226 4.09502309e+228] inf nan\n",
      "500 [2.58895556e+283 3.88580938e+285] inf nan\n",
      "600 [nan nan] nan nan\n",
      "700 [nan nan] nan nan\n",
      "800 [nan nan] nan nan\n",
      "900 [nan nan] nan nan\n"
     ]
    }
   ],
   "source": [
    "# градиентный спуск + l2 регуляризация\n",
    "mse_gd_L2 = []\n",
    "for iter in range(max_iter):\n",
    "    \n",
    "    err = mse_L2(data, w, target, coef_L2)\n",
    "    mse_gd_L2.append(err)\n",
    "    w_new = w - eta * 2 / n * (np.dot(data.T, (data.dot(w) - target))) - 2  * coef_L2 * w\n",
    "\n",
    "    delta = mse_L2(data, w, target, coef_L2) - mse_L2(data, w_new, target, coef_L2)\n",
    "#     delta = np.abs(delta)\n",
    "\n",
    "    w = w_new\n",
    "    \n",
    "    if iter % 100 == 0:\n",
    "        print(iter, w_new, err, delta)\n",
    "    \n",
    "#     if iter > 1 and delta < delta_stop:\n",
    "#         print(iter, w_new, err, abs(delta))\n",
    "#         break"
   ]
  },
  {
   "cell_type": "code",
   "execution_count": 873,
   "metadata": {},
   "outputs": [],
   "source": [
    "# начальные значения + L2 регуляризация\n",
    "w = np.zeros(2)\n",
    "eta = 1e-2\n",
    "max_iter = 10000\n",
    "delta_weigth_stop = 1e-6\n",
    "delta_weigth = 1e+5\n",
    "n = data.shape[0]\n",
    "coef_L2 = 0.01"
   ]
  },
  {
   "cell_type": "code",
   "execution_count": 874,
   "metadata": {},
   "outputs": [],
   "source": [
    "# стохастический градиентный спуск\n",
    "mse_sgd_L2 = []\n",
    "for iter in range(max_iter):\n",
    "    i = np.random.randint(0, data.shape[0])\n",
    "    \n",
    "    err = mse(data, w, target) \n",
    "    mse_sgd_L2.append(err)\n",
    "    \n",
    "    w_new = w - (eta * 2/n * (np.dot(data[i].T, (data[i].dot(w) - target[i]))) + 2 * coef_L2 * w)\n",
    "\n",
    "    delta_weigth = np.linalg.norm(w_new - w, ord=2)\n",
    "\n",
    "\n",
    "    w = w_new\n",
    "    \n",
    "    if iter > 1 and delta_weigth < delta_weigth_stop:\n",
    "        print(iter, w_new, err, delta_weigth)\n",
    "        break"
   ]
  },
  {
   "cell_type": "code",
   "execution_count": 875,
   "metadata": {},
   "outputs": [
    {
     "data": {
      "text/plain": [
       "Text(0, 0.5, 'MSE')"
      ]
     },
     "execution_count": 875,
     "metadata": {},
     "output_type": "execute_result"
    },
    {
     "data": {
      "image/png": "[encoded data removed]",
      "text/plain": [
       "<Figure size 432x288 with 1 Axes>"
      ]
     },
     "metadata": {
      "needs_background": "light"
     },
     "output_type": "display_data"
    }
   ],
   "source": [
    "plt.plot(range(len(mse_gd_L2)), mse_gd_L2, color='r')\n",
    "plt.plot(range(len(mse_sgd_L2)), mse_sgd_L2, color='b')\n",
    "plt.title('MSE')\n",
    "plt.xlabel('Iteration number')\n",
    "plt.ylabel('MSE')"
   ]
  },
  {
   "cell_type": "code",
   "execution_count": null,
   "metadata": {},
   "outputs": [],
   "source": []
  },
  {
   "cell_type": "code",
   "execution_count": null,
   "metadata": {},
   "outputs": [],
   "source": []
  }
 ],
 "metadata": {
  "kernelspec": {
   "display_name": "Python 3",
   "language": "python",
   "name": "python3"
  },
  "language_info": {
   "codemirror_mode": {
    "name": "ipython",
    "version": 3
   },
   "file_extension": ".py",
   "mimetype": "text/x-python",
   "name": "python",
   "nbconvert_exporter": "python",
   "pygments_lexer": "ipython3",
   "version": "3.7.6"
  }
 },
 "nbformat": 4,
 "nbformat_minor": 4
}
