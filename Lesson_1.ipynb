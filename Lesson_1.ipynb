{
 "cells": [
  {
   "cell_type": "code",
   "execution_count": 86,
   "metadata": {},
   "outputs": [],
   "source": [
    "import numpy as np"
   ]
  },
  {
   "cell_type": "code",
   "execution_count": 87,
   "metadata": {},
   "outputs": [],
   "source": [
    "y = np.array([45, 55, 50, 59, 65, 35, 75, 80, 50, 60])"
   ]
  },
  {
   "cell_type": "code",
   "execution_count": 88,
   "metadata": {},
   "outputs": [],
   "source": [
    "X = np.array([[1, 1, 1, 1, 1, 1, 1, 1, 1, 1],\n",
    "              [1, 1, 2, 1, 3, 0, 5, 10, 1, 2]])"
   ]
  },
  {
   "cell_type": "code",
   "execution_count": 89,
   "metadata": {},
   "outputs": [
    {
     "data": {
      "text/plain": [
       "((2, 10), (10,))"
      ]
     },
     "execution_count": 89,
     "metadata": {},
     "output_type": "execute_result"
    }
   ],
   "source": [
    "X.shape, y.shape"
   ]
  },
  {
   "cell_type": "code",
   "execution_count": 90,
   "metadata": {},
   "outputs": [
    {
     "data": {
      "text/plain": [
       "array([47.23214286,  3.91071429])"
      ]
     },
     "execution_count": 90,
     "metadata": {},
     "output_type": "execute_result"
    }
   ],
   "source": [
    "W = np.linalg.inv(np.dot(X, X.T)) @ X @ y\n",
    "W"
   ]
  },
  {
   "cell_type": "code",
   "execution_count": 91,
   "metadata": {},
   "outputs": [],
   "source": [
    "def calc_mse(y_pred, y):\n",
    "    mse = np.mean((y_pred-y)**2)\n",
    "    return mse"
   ]
  },
  {
   "cell_type": "code",
   "execution_count": 92,
   "metadata": {},
   "outputs": [],
   "source": [
    "def stop(err_prev, err):\n",
    "    delta = np.abs(err_prev-err)\n",
    "    return delta"
   ]
  },
  {
   "cell_type": "code",
   "execution_count": 93,
   "metadata": {},
   "outputs": [],
   "source": [
    "# alpha = 1e-3\n",
    "# n = X.shape[1]\n",
    "# n"
   ]
  },
  {
   "cell_type": "code",
   "execution_count": 94,
   "metadata": {},
   "outputs": [
    {
     "data": {
      "text/plain": [
       "3173.15"
      ]
     },
     "execution_count": 94,
     "metadata": {},
     "output_type": "execute_result"
    }
   ],
   "source": [
    "W = np.array([1, 0.5])\n",
    "y_pred = np.dot(W, X)\n",
    "calc_mse(y_pred, y)"
   ]
  },
  {
   "cell_type": "code",
   "execution_count": 104,
   "metadata": {},
   "outputs": [],
   "source": [
    "def fit_model(alpha_arr, iter_arr, W, X, y):\n",
    "    '''\n",
    "    В функцию подаются возможные значения параметра альфа и количества итераций\n",
    "    Вывод: значения функции ошибки\n",
    "    '''\n",
    "    all_err =[]\n",
    "    all_results = []\n",
    "    dict_len = len(alpha_arr) * len(iter_arr)\n",
    "    \n",
    "    for i in range(len(alpha_arr)):\n",
    "        for j in range(len(iter_arr)):\n",
    "            err = lenear_regression(alpha_arr[i], iter_arr[j], W, X, y)\n",
    "            all_err.append(err)\n",
    "            min_err = min(all_err)\n",
    "            all_results.append([alpha_arr[i], iter_arr[j], err])\n",
    "\n",
    "#                 print(f'alpha: {alpha_arr[i]}, iter: {iter_arr[j]}, err: {err}')\n",
    "    print(f'min_err: {min_err}')\n",
    "    print(all_results)"
   ]
  },
  {
   "cell_type": "code",
   "execution_count": 105,
   "metadata": {},
   "outputs": [],
   "source": [
    "def lenear_regression(alpha, iter, W, X, y):\n",
    "    for i in range(iter):\n",
    "        y_pred = np.dot(W, X)\n",
    "        W -= (alpha * (1/n * 2 * np.dot(X, (y_pred - y))))\n",
    "        err = calc_mse(y, y_pred)\n",
    "    return err    "
   ]
  },
  {
   "cell_type": "code",
   "execution_count": 106,
   "metadata": {},
   "outputs": [
    {
     "name": "stdout",
     "output_type": "stream",
     "text": [
      "min_err: 45.9375\n",
      "[[0.01, 500, 45.96833568071608], [0.01, 1000, 45.937500890645076], [0.01, 5000, 45.9375], [0.01, 10000, 45.9375], [0.001, 500, 416.12485014271545], [0.001, 1000, 176.73993581903417], [0.001, 5000, 45.969281170668694], [0.001, 10000, 45.93750096407864], [0.0001, 500, 1090.5259498603778], [0.0001, 1000, 900.2860625234674], [0.0001, 5000, 415.61220354103006], [0.0001, 10000, 176.62240977239327], [1e-05, 500, 2621.2049391492474], [1e-05, 1000, 2209.3376034944295], [1e-05, 5000, 1090.217836165024], [1e-05, 10000, 900.1491686151282]]\n"
     ]
    }
   ],
   "source": [
    "fit_model([1e-2, 1e-3, 1e-4, 1e-5],[500, 1000, 5000, 10000], [1, 0.5], X, y)"
   ]
  },
  {
   "cell_type": "markdown",
   "metadata": {},
   "source": [
    "Из различных вариантов кол-ва итераций и шага обучения наиболее эффективно: alpha: 0.01, iter: 5000"
   ]
  },
  {
   "cell_type": "markdown",
   "metadata": {},
   "source": [
    "Добавляем критерий останова: разница в ошибке"
   ]
  },
  {
   "cell_type": "code",
   "execution_count": 61,
   "metadata": {},
   "outputs": [
    {
     "name": "stdout",
     "output_type": "stream",
     "text": [
      "5908 [47.13780087  3.92813525] 45.942294982764395 9.987030260560914e-06\n"
     ]
    }
   ],
   "source": [
    "W = np.array([1, 0.5])\n",
    "alpha = 0.001\n",
    "delta = 1e5\n",
    "err_prev = 1e5\n",
    "for i in range(10000):\n",
    "    y_pred = np.dot(W, X)\n",
    "    if i > 1:\n",
    "        err_prev = err\n",
    "        \n",
    "    err = calc_mse(y, y_pred)\n",
    "\n",
    "    W -= (alpha * (1/n * 2 * np.dot(X, (y_pred - y))))\n",
    "    delta = stop(err_prev, err)\n",
    "    if delta < 1e-5:\n",
    "        print(i, W, err, delta)\n",
    "        break\n",
    "    "
   ]
  }
 ],
 "metadata": {
  "kernelspec": {
   "display_name": "Python 3",
   "language": "python",
   "name": "python3"
  },
  "language_info": {
   "codemirror_mode": {
    "name": "ipython",
    "version": 3
   },
   "file_extension": ".py",
   "mimetype": "text/x-python",
   "name": "python",
   "nbconvert_exporter": "python",
   "pygments_lexer": "ipython3",
   "version": "3.7.6"
  }
 },
 "nbformat": 4,
 "nbformat_minor": 4
}
