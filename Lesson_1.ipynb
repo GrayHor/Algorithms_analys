{
 "cells": [
  {
   "cell_type": "code",
   "execution_count": 38,
   "metadata": {},
   "outputs": [],
   "source": [
    "import numpy as np"
   ]
  },
  {
   "cell_type": "code",
   "execution_count": null,
   "metadata": {},
   "outputs": [],
   "source": []
  },
  {
   "cell_type": "code",
   "execution_count": 39,
   "metadata": {},
   "outputs": [],
   "source": [
    "y = np.array([45, 55, 50, 59, 65, 35, 75, 80, 50, 60])"
   ]
  },
  {
   "cell_type": "code",
   "execution_count": 40,
   "metadata": {},
   "outputs": [],
   "source": [
    "X = np.array([[1, 1, 1, 1, 1, 1, 1, 1, 1, 1],\n",
    "              [1, 1, 2, 1, 3, 0, 5, 10, 1, 2]])"
   ]
  },
  {
   "cell_type": "code",
   "execution_count": 41,
   "metadata": {},
   "outputs": [
    {
     "data": {
      "text/plain": [
       "((2, 10), (10,))"
      ]
     },
     "execution_count": 41,
     "metadata": {},
     "output_type": "execute_result"
    }
   ],
   "source": [
    "X.shape, y.shape"
   ]
  },
  {
   "cell_type": "code",
   "execution_count": 109,
   "metadata": {},
   "outputs": [
    {
     "data": {
      "text/plain": [
       "array([47.23214286,  3.91071429])"
      ]
     },
     "execution_count": 109,
     "metadata": {},
     "output_type": "execute_result"
    }
   ],
   "source": [
    "W = np.linalg.inv(np.dot(X, X.T)) @ X @ y\n",
    "W"
   ]
  },
  {
   "cell_type": "code",
   "execution_count": 110,
   "metadata": {},
   "outputs": [],
   "source": [
    "def calc_mse(y_pred, y):\n",
    "    mse = np.mean((y_pred-y)**2)\n",
    "    return mse"
   ]
  },
  {
   "cell_type": "code",
   "execution_count": 111,
   "metadata": {},
   "outputs": [],
   "source": [
    "def stop(err_prev, err):\n",
    "    delta = np.abs(err_prev-err)\n",
    "    return delta"
   ]
  },
  {
   "cell_type": "code",
   "execution_count": 117,
   "metadata": {},
   "outputs": [
    {
     "data": {
      "text/plain": [
       "10"
      ]
     },
     "execution_count": 117,
     "metadata": {},
     "output_type": "execute_result"
    }
   ],
   "source": [
    "alpha = 1e-3\n",
    "n = X.shape[1]\n",
    "n"
   ]
  },
  {
   "cell_type": "code",
   "execution_count": 118,
   "metadata": {},
   "outputs": [
    {
     "data": {
      "text/plain": [
       "3173.15"
      ]
     },
     "execution_count": 118,
     "metadata": {},
     "output_type": "execute_result"
    }
   ],
   "source": [
    "W = np.array([1, 0.5])\n",
    "y_pred = np.dot(W, X)\n",
    "calc_mse(y_pred, y)"
   ]
  },
  {
   "cell_type": "code",
   "execution_count": 119,
   "metadata": {},
   "outputs": [
    {
     "name": "stdout",
     "output_type": "stream",
     "text": [
      "0 [1.1102 0.5   ] 3173.15 3127.2124999999955\n",
      "0 [1.1102 0.84  ] 3173.15 3127.2124999999955\n",
      "1000 [31.66648131  6.78802453] 176.46806566379882 0.2718701552353764\n",
      "1000 [31.66648131  6.78503276] 176.46806566379882 0.2718701552353764\n",
      "2000 [41.73215361  4.92738649] 62.2342399245102 0.03394298638465898\n",
      "2000 [41.73215361  4.92632937] 62.2342399245102 0.03394298638465898\n",
      "3000 [45.28877016  4.26994644] 47.97214782992787 0.004237781538442675\n",
      "3000 [45.28877016  4.26957292] 47.97214782992787 0.004237781538442675\n",
      "4000 [46.54546925  4.0376458 ] 46.191525762883025 0.0005290869861411807\n",
      "4000 [46.54546925  4.03751382] 46.191525762883025 0.0005290869861411807\n",
      "5000 [46.98951279  3.95556442] 45.96921511416333 6.605650536073426e-05\n",
      "5000 [46.98951279  3.95551778] 45.96921511416333 6.605650536073426e-05\n"
     ]
    }
   ],
   "source": [
    "for i in range(10000):\n",
    "    y_pred = np.dot(W, X)\n",
    "    if i > 1:\n",
    "        err_prev = err\n",
    "    err = calc_mse(y, y_pred)\n",
    "    delta = stop(err_prev, err)\n",
    "    if delta < 1e-5:\n",
    "        break\n",
    "    for ii in range(W.shape[0]):\n",
    "        W[ii] -= alpha * (1/n * 2 * np.sum(X[ii] * (y_pred - y)))\n",
    "        if i % 1000 == 0:\n",
    "            print(i, W, err, delta)    "
   ]
  },
  {
   "cell_type": "code",
   "execution_count": null,
   "metadata": {},
   "outputs": [],
   "source": []
  },
  {
   "cell_type": "code",
   "execution_count": null,
   "metadata": {},
   "outputs": [],
   "source": []
  }
 ],
 "metadata": {
  "kernelspec": {
   "display_name": "Python 3",
   "language": "python",
   "name": "python3"
  },
  "language_info": {
   "codemirror_mode": {
    "name": "ipython",
    "version": 3
   },
   "file_extension": ".py",
   "mimetype": "text/x-python",
   "name": "python",
   "nbconvert_exporter": "python",
   "pygments_lexer": "ipython3",
   "version": "3.7.6"
  }
 },
 "nbformat": 4,
 "nbformat_minor": 4
}
